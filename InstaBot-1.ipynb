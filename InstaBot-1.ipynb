{
 "cells": [
  {
   "cell_type": "code",
   "execution_count": 1,
   "metadata": {},
   "outputs": [],
   "source": [
    "from selenium import webdriver\n",
    "import time"
   ]
  },
  {
   "cell_type": "code",
   "execution_count": 4,
   "metadata": {},
   "outputs": [],
   "source": [
    "# opening window in automated brower.\n",
    "driver_path = \"chromedriver\"\n",
    "brave_path = \"C:/Program Files/BraveSoftware/Brave-Browser/Application/brave.exe\"\n",
    "\n",
    "option = webdriver.ChromeOptions()\n",
    "option.binary_location = brave_path\n",
    "# option.add_argument(\"--incognito\") OPTIONAL\n",
    "# option.add_argument(\"--headless\") OPTIONAL\n",
    "\n",
    "# Create new Instance of Chrome\n",
    "driver = webdriver.Chrome(executable_path=driver_path, options=option)\n",
    "driver.get('https://www.instagram.com/?hl=en')"
   ]
  },
  {
   "cell_type": "markdown",
   "metadata": {},
   "source": [
    "Login Into Instagram"
   ]
  },
  {
   "cell_type": "code",
   "execution_count": 5,
   "metadata": {},
   "outputs": [],
   "source": [
    "# Passing texts and logging into the instagram account\n",
    "driver.find_element_by_name('username').send_keys('-----')\n",
    "driver.find_element_by_name('password').send_keys('-----')\n",
    "login_btn=driver.find_element_by_xpath('//button[@class=\"sqdOP  L3NKy   y3zKF     \"]')\n",
    "login_btn.click()"
   ]
  },
  {
   "cell_type": "code",
   "execution_count": 6,
   "metadata": {},
   "outputs": [],
   "source": [
    "# Taking care of Turn on notifications message.\n",
    "time.sleep(5)\n",
    "driver.find_element_by_xpath('//button[@class=\"aOOlW   HoLwm \"]').click()"
   ]
  },
  {
   "cell_type": "markdown",
   "metadata": {},
   "source": [
    "Search Top Food Handles"
   ]
  },
  {
   "cell_type": "code",
   "execution_count": 19,
   "metadata": {},
   "outputs": [
    {
     "name": "stdout",
     "output_type": "stream",
     "text": [
      "delhi_streets_food\n",
      "tasty.foodrecipes\n",
      "food_maskaa\n",
      "#food\n",
      "food_is_lobe\n",
      "food_bunny98\n",
      "yourfoodlab\n",
      "food\n",
      "food_junc\n",
      "foodiesafarii\n"
     ]
    }
   ],
   "source": [
    "# searching for food and printing instagram handles.\n",
    "search_bar=driver.find_element_by_xpath('//input[@type=\"text\"]')\n",
    "search_bar.send_keys('food')\n",
    "time.sleep(3)\n",
    "\n",
    "Instagram_Handles=[]\n",
    "li=driver.find_elements_by_xpath('//div[@class=\"_7UhW9   xLCgt        qyrsm KV-D4           uL8Hv         \"]')\n",
    "for i in li[:10]:\n",
    "    Instagram_Handles.append(i.text)\n",
    "\n",
    "for h in Instagram_Handles:\n",
    "    print(h)"
   ]
  },
  {
   "cell_type": "markdown",
   "metadata": {},
   "source": [
    "Find Instagram Handle of 'So Delhi'"
   ]
  },
  {
   "cell_type": "code",
   "execution_count": 6,
   "metadata": {},
   "outputs": [],
   "source": [
    "# Assuming we are already logged in searching for So Delhi and clicking on it.\n",
    "search_bar=driver.find_element_by_xpath('//input[@type=\"text\"]')\n",
    "search_bar.send_keys('So Delhi')\n",
    "time.sleep(3)\n",
    "\n",
    "profile_btn=driver.find_element_by_xpath('//div[@class=\"z556c\"]')\n",
    "profile_btn.click()"
   ]
  },
  {
   "cell_type": "code",
   "execution_count": 9,
   "metadata": {},
   "outputs": [
    {
     "name": "stdout",
     "output_type": "stream",
     "text": [
      "Already Following\n"
     ]
    }
   ],
   "source": [
    "# Following sodelhi and printing if already followed.\n",
    "from selenium.common.exceptions import NoSuchElementException\n",
    "try:\n",
    "    follow_btn=driver.find_element_by_xpath('//button[@class=\"_5f5mN       jIbKX  _6VtSN     yZn4P   \"]')\n",
    "    text=follow_btn.get_attribute('innerHTML')\n",
    "    if text=='Follow':\n",
    "        follow_btn.click()\n",
    "        \n",
    "except NoSuchElementException:\n",
    "    print('Already Following')"
   ]
  },
  {
   "cell_type": "code",
   "execution_count": 11,
   "metadata": {},
   "outputs": [
    {
     "name": "stdout",
     "output_type": "stream",
     "text": [
      "Already Unfollowed\n"
     ]
    }
   ],
   "source": [
    "# Unfollowing sodelhi and printing statement if already unfollowed.\n",
    "from selenium.common.exceptions import NoSuchElementException\n",
    "try:\n",
    "    follow_btn=driver.find_element_by_xpath('//button[@class=\"_5f5mN    -fzfL     _6VtSN     yZn4P   \"]')\n",
    "    text=follow_btn.get_attribute('innerHTML')\n",
    "    if text=='Following':\n",
    "        follow_btn.click()\n",
    "    time.sleep(4)\n",
    "    # taking care of alert message and clicking on unfollow btn\n",
    "    driver.find_element_by_xpath('//button[@class=\"aOOlW -Cab_   \"]').click()\n",
    "except NoSuchElementException:\n",
    "    print('Already Unfollowed')"
   ]
  },
  {
   "cell_type": "markdown",
   "metadata": {},
   "source": [
    "Search 'dilsefoodie'"
   ]
  },
  {
   "cell_type": "code",
   "execution_count": 12,
   "metadata": {},
   "outputs": [],
   "source": [
    "# Assuming we are already logged in.\n",
    "# searching for dilsefoodie and clicking on profile tab.\n",
    "search_bar=driver.find_element_by_xpath('//input[@type=\"text\"]')\n",
    "search_bar.send_keys('dilsefoodie')\n",
    "time.sleep(3)\n",
    "\n",
    "profile_btn=driver.find_element_by_xpath('//div[@class=\"z556c\"]')\n",
    "profile_btn.click()"
   ]
  },
  {
   "cell_type": "markdown",
   "metadata": {},
   "source": [
    "Like recent 30 Posts of 'dilsefoodie'."
   ]
  },
  {
   "cell_type": "code",
   "execution_count": 13,
   "metadata": {},
   "outputs": [],
   "source": [
    "driver.execute_script('window.scrollTo(0,arguments[0])',driver.execute_script('return document.body.scrollHeight'))\n",
    "time.sleep(10)\n",
    "li=driver.find_elements_by_xpath('//div[@class=\"Nnq7C weEfm\"]/div/a')\n",
    "links=[]\n",
    "count=0\n",
    "for i in li:\n",
    "    if count==30:\n",
    "        break\n",
    "    links.append(i.get_attribute('href'))\n",
    "    count+=1"
   ]
  },
  {
   "cell_type": "code",
   "execution_count": 90,
   "metadata": {},
   "outputs": [
    {
     "name": "stdout",
     "output_type": "stream",
     "text": [
      "Already Liked Post No. : 1\n",
      "Already Liked Post No. : 2\n",
      "Already Liked Post No. : 3\n",
      "Already Liked Post No. : 4\n",
      "Already Liked Post No. : 5\n",
      "Already Liked Post No. : 6\n",
      "Liked Post No. : 7\n",
      "Liked Post No. : 8\n",
      "Liked Post No. : 9\n",
      "Liked Post No. : 10\n",
      "Liked Post No. : 11\n",
      "Liked Post No. : 12\n",
      "Liked Post No. : 13\n",
      "Liked Post No. : 14\n",
      "Liked Post No. : 15\n",
      "Liked Post No. : 16\n",
      "Liked Post No. : 17\n",
      "Liked Post No. : 18\n",
      "Liked Post No. : 19\n",
      "Liked Post No. : 20\n",
      "Liked Post No. : 21\n",
      "Liked Post No. : 22\n",
      "Liked Post No. : 23\n",
      "Liked Post No. : 24\n",
      "Liked Post No. : 25\n",
      "Liked Post No. : 26\n",
      "Liked Post No. : 27\n",
      "Liked Post No. : 28\n",
      "Liked Post No. : 29\n",
      "Liked Post No. : 30\n"
     ]
    }
   ],
   "source": [
    "# like top 30 posts and print('already liked if it is already liked')\n",
    "count=1\n",
    "for i in links:\n",
    "    \n",
    "    driver.execute_script('window.open(arguments[0])', i)\n",
    "    time.sleep(5)\n",
    "    \n",
    "    windows=driver.window_handles\n",
    "    driver.switch_to.window(windows[count])\n",
    "    time.sleep(2)\n",
    "    \n",
    "    if driver.find_element_by_css_selector('svg').get_attribute(\"aria-label\")=='Like':\n",
    "        like_btn=driver.find_element_by_xpath('//button[@class=\"wpO6b \"]')\n",
    "        like_btn.click()\n",
    "        print('Liked Post No. :', count)\n",
    "    else:\n",
    "        print('Already Liked Post No. :', count)\n",
    "    time.sleep(2)\n",
    "    \n",
    "    driver.switch_to.window(windows[0])\n",
    "    time.sleep(2)\n",
    "    \n",
    "    # This close window statement is not working and i don't know why. If u know a better way plz comment.\n",
    "    driver.execute_script('window.close(arguments[0])', i)\n",
    "    time.sleep(2)\n",
    "    count+=1"
   ]
  },
  {
   "cell_type": "code",
   "execution_count": 92,
   "metadata": {},
   "outputs": [
    {
     "name": "stdout",
     "output_type": "stream",
     "text": [
      "Already Unliked Post No. : 1\n",
      "Unliked Post No. : 2\n",
      "Already Unliked Post No. : 3\n",
      "Already Unliked Post No. : 4\n",
      "Already Unliked Post No. : 5\n",
      "Unliked Post No. : 6\n",
      "Unliked Post No. : 7\n",
      "Unliked Post No. : 8\n",
      "Unliked Post No. : 9\n",
      "Unliked Post No. : 10\n",
      "Unliked Post No. : 11\n",
      "Unliked Post No. : 12\n",
      "Unliked Post No. : 13\n",
      "Already Unliked Post No. : 14\n",
      "Unliked Post No. : 15\n",
      "Unliked Post No. : 16\n",
      "Unliked Post No. : 17\n",
      "Unliked Post No. : 18\n",
      "Unliked Post No. : 19\n",
      "Unliked Post No. : 20\n",
      "Unliked Post No. : 21\n",
      "Unliked Post No. : 22\n",
      "Unliked Post No. : 23\n",
      "Unliked Post No. : 24\n",
      "Unliked Post No. : 25\n",
      "Unliked Post No. : 26\n",
      "Unliked Post No. : 27\n",
      "Unliked Post No. : 28\n",
      "Unliked Post No. : 29\n",
      "Unliked Post No. : 30\n"
     ]
    }
   ],
   "source": [
    "# Unlike top 30 posts and print('already unliked if it is already unliked')\n",
    "count=1\n",
    "for i in links:\n",
    "    \n",
    "    driver.execute_script('window.open(arguments[0])', i)\n",
    "    time.sleep(5)\n",
    "    \n",
    "    windows=driver.window_handles\n",
    "    driver.switch_to.window(windows[count])\n",
    "    time.sleep(2)\n",
    "    \n",
    "    if driver.find_element_by_css_selector('svg').get_attribute(\"aria-label\")=='Unlike':\n",
    "        like_btn=driver.find_element_by_xpath('//button[@class=\"wpO6b \"]')\n",
    "        like_btn.click()\n",
    "        print('Unliked Post No. :', count)\n",
    "    else:\n",
    "        print('Already Unliked Post No. :', count)\n",
    "    time.sleep(2)\n",
    "    \n",
    "    driver.switch_to.window(windows[0])\n",
    "    time.sleep(2)\n",
    "    \n",
    "    # This close window statement is not working and i don't know why. If u know a better way plz comment.\n",
    "    driver.execute_script('window.close(arguments[0])', i)\n",
    "    time.sleep(2)\n",
    "    count+=1"
   ]
  },
  {
   "cell_type": "markdown",
   "metadata": {},
   "source": [
    "$Question-6$"
   ]
  },
  {
   "cell_type": "markdown",
   "metadata": {},
   "source": [
    "Search 'FoodTalkIndia'"
   ]
  },
  {
   "cell_type": "code",
   "execution_count": 17,
   "metadata": {},
   "outputs": [],
   "source": [
    "# Searching for FoodTalkIndia\n",
    "search_bar=driver.find_element_by_xpath('//input[@type=\"text\"]')\n",
    "search_bar.send_keys('foodtalkindia')\n",
    "time.sleep(3)\n",
    "\n",
    "profile_btn=driver.find_element_by_xpath('//div[@class=\"z556c\"]')\n",
    "profile_btn.click()"
   ]
  },
  {
   "cell_type": "code",
   "execution_count": 25,
   "metadata": {},
   "outputs": [
    {
     "name": "stdout",
     "output_type": "stream",
     "text": [
      "['amaresh.seal', 'editerboy9', 'sandeeep.sharmaa007', 'akhisanju', 'saikp1', 'ranikolar', 'aroramohan619', 'deeraj_t', 'rajinder.sehgal.96', 'sarojomkar', 'replytolav', 'choudhary_arjun_rathour_2002', 'samaira45khan', 'simmidesai68', 'anjalisach', 'dailymotivations00', 'atomicbomb.fr', 'manavimdhooli', 'shoaib1827', 's_n_a_ps_h_o_t', 'dasrothin', 'nits.1997', 'himanshu__hop', 'vermarajat452', 'radhikamahalanobis', 'raaji_1411', 'megha.kiara', 'sahil26', 'spicy.suraj', 'sardar__arpita', 'nirmal7007___', 'prateek_2219', 'aatira_zamir', 'bhukkad_ghummkkad', 'kale_sukesh', 'pooja8100', 'desiadda98', 'bhartichauhan25', 'aashuu_9099', 'life.thyme', 'nitinrokade2022', 'anchal7835', 'vegadmired', 'anilsmenon123', 'sairamsweetsindia', 'young.gigs', 'khushsharmaa', 'nidhikillawala', 'amaresh.seal', 'editerboy9', 'sandeeep.sharmaa007', 'akhisanju', 'saikp1', 'ranikolar', 'aroramohan619', 'deeraj_t', 'rajinder.sehgal.96', 'sarojomkar', 'replytolav', 'choudhary_arjun_rathour_2002', 'samaira45khan', 'simmidesai68', 'anjalisach', 'dailymotivations00', 'atomicbomb.fr', 'manavimdhooli', 'shoaib1827', 's_n_a_ps_h_o_t', 'dasrothin', 'nits.1997', 'himanshu__hop', 'vermarajat452', 'radhikamahalanobis', 'raaji_1411', 'megha.kiara', 'sahil26', 'spicy.suraj', 'sardar__arpita', 'nirmal7007___', 'prateek_2219', 'aatira_zamir', 'bhukkad_ghummkkad', 'kale_sukesh', 'pooja8100', 'desiadda98', 'bhartichauhan25', 'aashuu_9099', 'life.thyme', 'nitinrokade2022', 'anchal7835', 'vegadmired', 'anilsmenon123', 'sairamsweetsindia', 'young.gigs', 'khushsharmaa', 'nidhikillawala', 'amaresh.seal', 'editerboy9', 'sandeeep.sharmaa007', 'akhisanju', 'saikp1', 'ranikolar', 'aroramohan619', 'deeraj_t', 'rajinder.sehgal.96', 'sarojomkar', 'replytolav', 'choudhary_arjun_rathour_2002', 'samaira45khan', 'simmidesai68', 'anjalisach', 'dailymotivations00', 'atomicbomb.fr', 'manavimdhooli', 'shoaib1827', 's_n_a_ps_h_o_t', 'dasrothin', 'nits.1997', 'himanshu__hop', 'vermarajat452', 'radhikamahalanobis', 'raaji_1411', 'megha.kiara', 'sahil26', 'spicy.suraj', 'sardar__arpita', 'nirmal7007___', 'prateek_2219', 'aatira_zamir', 'bhukkad_ghummkkad', 'kale_sukesh', 'pooja8100', 'desiadda98', 'bhartichauhan25', 'aashuu_9099', 'life.thyme', 'nitinrokade2022', 'anchal7835', 'vegadmired', 'anilsmenon123', 'sairamsweetsindia', 'young.gigs', 'khushsharmaa', 'nidhikillawala', 'amaresh.seal', 'editerboy9', 'sandeeep.sharmaa007', 'akhisanju', 'saikp1', 'ranikolar', 'aroramohan619', 'deeraj_t', 'rajinder.sehgal.96', 'sarojomkar', 'replytolav', 'choudhary_arjun_rathour_2002', 'samaira45khan', 'simmidesai68', 'anjalisach', 'dailymotivations00', 'atomicbomb.fr', 'manavimdhooli', 'shoaib1827', 's_n_a_ps_h_o_t', 'dasrothin', 'nits.1997', 'himanshu__hop', 'vermarajat452', 'radhikamahalanobis', 'raaji_1411', 'megha.kiara', 'sahil26', 'spicy.suraj', 'sardar__arpita', 'nirmal7007___', 'prateek_2219', 'aatira_zamir', 'bhukkad_ghummkkad', 'kale_sukesh', 'pooja8100', 'desiadda98', 'bhartichauhan25', 'aashuu_9099', 'life.thyme', 'nitinrokade2022', 'anchal7835', 'vegadmired', 'anilsmenon123', 'sairamsweetsindia', 'young.gigs', 'khushsharmaa', 'nidhikillawala', 'amaresh.seal', 'editerboy9', 'sandeeep.sharmaa007', 'akhisanju', 'saikp1', 'ranikolar', 'aroramohan619', 'deeraj_t', 'rajinder.sehgal.96', 'sarojomkar', 'replytolav', 'choudhary_arjun_rathour_2002', 'samaira45khan', 'simmidesai68', 'anjalisach', 'dailymotivations00', 'atomicbomb.fr', 'manavimdhooli', 'shoaib1827', 's_n_a_ps_h_o_t', 'dasrothin', 'nits.1997', 'himanshu__hop', 'vermarajat452', 'radhikamahalanobis', 'raaji_1411', 'megha.kiara', 'sahil26', 'spicy.suraj', 'sardar__arpita', 'nirmal7007___', 'prateek_2219', 'aatira_zamir', 'bhukkad_ghummkkad', 'kale_sukesh', 'pooja8100', 'desiadda98', 'bhartichauhan25', 'aashuu_9099', 'life.thyme', 'nitinrokade2022', 'anchal7835', 'vegadmired', 'anilsmenon123', 'sairamsweetsindia', 'young.gigs', 'khushsharmaa', 'nidhikillawala', 'amaresh.seal', 'editerboy9', 'sandeeep.sharmaa007', 'akhisanju', 'saikp1', 'ranikolar', 'aroramohan619', 'deeraj_t', 'rajinder.sehgal.96', 'sarojomkar', 'replytolav', 'choudhary_arjun_rathour_2002', 'samaira45khan', 'simmidesai68', 'anjalisach', 'dailymotivations00', 'atomicbomb.fr', 'manavimdhooli', 'shoaib1827', 's_n_a_ps_h_o_t', 'dasrothin', 'nits.1997', 'himanshu__hop', 'vermarajat452', 'radhikamahalanobis', 'raaji_1411', 'megha.kiara', 'sahil26', 'spicy.suraj', 'sardar__arpita', 'nirmal7007___', 'prateek_2219', 'aatira_zamir', 'bhukkad_ghummkkad', 'kale_sukesh', 'pooja8100', 'desiadda98', 'bhartichauhan25', 'aashuu_9099', 'life.thyme', 'nitinrokade2022', 'anchal7835', 'vegadmired', 'anilsmenon123', 'sairamsweetsindia', 'young.gigs', 'khushsharmaa', 'nidhikillawala', 'amaresh.seal', 'editerboy9', 'sandeeep.sharmaa007', 'akhisanju', 'saikp1', 'ranikolar', 'aroramohan619', 'deeraj_t', 'rajinder.sehgal.96', 'sarojomkar', 'replytolav', 'choudhary_arjun_rathour_2002', 'samaira45khan', 'simmidesai68', 'anjalisach', 'dailymotivations00', 'atomicbomb.fr', 'manavimdhooli', 'shoaib1827', 's_n_a_ps_h_o_t', 'dasrothin', 'nits.1997', 'himanshu__hop', 'vermarajat452', 'radhikamahalanobis', 'raaji_1411', 'megha.kiara', 'sahil26', 'spicy.suraj', 'sardar__arpita', 'nirmal7007___', 'prateek_2219', 'aatira_zamir', 'bhukkad_ghummkkad', 'kale_sukesh', 'pooja8100', 'desiadda98', 'bhartichauhan25', 'aashuu_9099', 'life.thyme', 'nitinrokade2022', 'anchal7835', 'vegadmired', 'anilsmenon123', 'sairamsweetsindia', 'young.gigs', 'khushsharmaa', 'nidhikillawala', 'amaresh.seal', 'editerboy9', 'sandeeep.sharmaa007', 'akhisanju', 'saikp1', 'ranikolar', 'aroramohan619', 'deeraj_t', 'rajinder.sehgal.96', 'sarojomkar', 'replytolav', 'choudhary_arjun_rathour_2002', 'samaira45khan', 'simmidesai68', 'anjalisach', 'dailymotivations00', 'atomicbomb.fr', 'manavimdhooli', 'shoaib1827', 's_n_a_ps_h_o_t', 'dasrothin', 'nits.1997', 'himanshu__hop', 'vermarajat452', 'radhikamahalanobis', 'raaji_1411', 'megha.kiara', 'sahil26', 'spicy.suraj', 'sardar__arpita', 'nirmal7007___', 'prateek_2219', 'aatira_zamir', 'bhukkad_ghummkkad', 'kale_sukesh', 'pooja8100', 'desiadda98', 'bhartichauhan25', 'aashuu_9099', 'life.thyme', 'nitinrokade2022', 'anchal7835', 'vegadmired', 'anilsmenon123', 'sairamsweetsindia', 'young.gigs', 'khushsharmaa', 'nidhikillawala', 'eatsfoodie_itsdelhi', 'puneet5159', 'vaijanathmahantashettar', 'being_akki_z1', 'xx__.aafi.__xx', 'ankitachauhan07', 'lufiamandalulu643', 'tuto963', 'shoan.shinde', 'thalichef', 'deep1995dumka', 'agarwal_shally', 'amaresh.seal', 'editerboy9', 'sandeeep.sharmaa007', 'akhisanju', 'saikp1', 'ranikolar', 'aroramohan619', 'deeraj_t', 'rajinder.sehgal.96', 'sarojomkar', 'replytolav', 'choudhary_arjun_rathour_2002', 'samaira45khan', 'simmidesai68', 'anjalisach', 'dailymotivations00', 'atomicbomb.fr', 'manavimdhooli', 'shoaib1827', 's_n_a_ps_h_o_t', 'dasrothin', 'nits.1997', 'himanshu__hop', 'vermarajat452', 'radhikamahalanobis', 'raaji_1411', 'megha.kiara', 'sahil26', 'spicy.suraj', 'sardar__arpita', 'nirmal7007___', 'prateek_2219', 'aatira_zamir', 'bhukkad_ghummkkad', 'kale_sukesh', 'pooja8100', 'desiadda98', 'bhartichauhan25', 'aashuu_9099', 'life.thyme', 'nitinrokade2022', 'anchal7835', 'vegadmired', 'anilsmenon123', 'sairamsweetsindia', 'young.gigs', 'khushsharmaa', 'nidhikillawala', 'eatsfoodie_itsdelhi', 'puneet5159', 'vaijanathmahantashettar', 'being_akki_z1', 'xx__.aafi.__xx', 'ankitachauhan07', 'lufiamandalulu643', 'tuto963', 'shoan.shinde', 'thalichef', 'deep1995dumka', 'agarwal_shally', 'amaresh.seal', 'editerboy9', 'sandeeep.sharmaa007', 'akhisanju', 'saikp1', 'ranikolar', 'aroramohan619', 'deeraj_t', 'rajinder.sehgal.96', 'sarojomkar', 'replytolav', 'choudhary_arjun_rathour_2002', 'samaira45khan', 'simmidesai68', 'anjalisach', 'dailymotivations00', 'atomicbomb.fr', 'manavimdhooli', 'shoaib1827', 's_n_a_ps_h_o_t', 'dasrothin', 'nits.1997', 'himanshu__hop', 'vermarajat452', 'radhikamahalanobis', 'raaji_1411', 'megha.kiara', 'sahil26', 'spicy.suraj', 'sardar__arpita', 'nirmal7007___', 'prateek_2219', 'aatira_zamir', 'bhukkad_ghummkkad', 'kale_sukesh', 'pooja8100', 'desiadda98', 'bhartichauhan25', 'aashuu_9099', 'life.thyme', 'nitinrokade2022', 'anchal7835', 'vegadmired', 'anilsmenon123']\n"
     ]
    }
   ],
   "source": [
    "followers_btn=driver.find_element_by_xpath('//li[@class=\"Y8-fY \"]/a')\n",
    "followers_btn.click()\n",
    "time.sleep(3)\n",
    "\n",
    "followers=[]\n",
    "fbody=driver.find_element_by_xpath('//div[@class=\"isgrP\"]')\n",
    "li=driver.find_elements_by_xpath('//a[@class=\"FPmhX notranslate  _0imsa \"]')\n",
    "while len(followers)<500:\n",
    "    for i in li:\n",
    "        followers.append(i.get_attribute('innerHTML'))\n",
    "    \n",
    "    driver.execute_script('arguments[0].scrollTop = arguments[0].scrollTop + arguments[0].offsetHeight',fbody)\n",
    "    time.sleep(2)\n",
    "    \n",
    "    li=driver.find_elements_by_xpath('//a[@class=\"FPmhX notranslate  _0imsa \"]')\n",
    "    \n",
    "time.sleep(2)\n",
    "driver.find_element_by_xpath('//div[@class=\"WaOAr\"]/button').click()\n",
    "\n",
    "print(followers[:500])"
   ]
  },
  {
   "cell_type": "code",
   "execution_count": 16,
   "metadata": {},
   "outputs": [],
   "source": [
    "# So Delhi\n",
    "search_bar=driver.find_element_by_xpath('//input[@type=\"text\"]')\n",
    "search_bar.send_keys('sodelhi')\n",
    "time.sleep(3)\n",
    "\n",
    "profile_btn=driver.find_element_by_xpath('//div[@class=\"z556c\"]')\n",
    "profile_btn.click()"
   ]
  },
  {
   "cell_type": "code",
   "execution_count": 23,
   "metadata": {},
   "outputs": [
    {
     "name": "stdout",
     "output_type": "stream",
     "text": [
      "['soodingelement', 'aman11sinha', 'leoniweni', 'yogitajhaaa', 'ek.villaine007', 'rosatorovalencia', 'happyhues_sargam', '_priya_003_', '75_akarsh_76', 'ashit_yadav', 'gurpreet_khalsa_222', 'luisangelpimentelrengifo', 'niyati5', 'jorden3966', 'delhipie', 'the_heliophile24', 'javed.ker.4123', 'filmaxzone', 'dineshjat3956', 'rossolaluna', 'officialsubscriptions', 'raj.angela', 'the_back_benchers_7', 'aquib_xargar', '_.knack.__', 'sahilverma29', 'arefarpanahi', 'anurag42084', 'kushushresthaa', 'ravis4647', 'wesal_shilig_', 'shaifali_negi', 'ankitabajpai15', 'rabi.yaaa', 'hie22020', 'miss_amritakaur', 'j.m_19.11', 'sanskrity_jain', 'h.e.e.m.a.n.e.e_blah_blah', '_saini_99', 'aleemsanaa', 'anshulg343', 'kavya_mohan13', 'blog.20s', 're_vaaaa', 'md_shaaf_shakh', 'rafiqaenan', 'iamshrey___', 'jbstudentlaundryservice', 'harshit.goyal0711', 'annu_abhotosh', 'gshashi863', 'sanya_arora22', 'shooby.shoo', 'finding.muse', 'toungeandtaste', 'imfestbouy', 'ashmikabeohar', 'shubham.aryan24', 'craftine1205', 'shreyabatraa', 'my_name_is_billimosi_', 'bbtramboo', 'corporatecaffeine', 'mansi_ohlyan_', 'fashionhub_best', '_silent_killer_185', 'leetanshiii', 'sakshii.008', 'ruhanika_love', 'adityamk2', 'spicy.suraj', 'riaaaa.pvtttt', 'nik_varuna', 'living_dead.08', 'bond.over.food', 'jayant___13', 'sanjeevjain6192', 'sutreja', 'pinkyprasad15', 'ria_gulati', '22.91am', 'karthik_ravi', 'kartikey.__.013', 'soodingelement', 'aman11sinha', 'leoniweni', 'yogitajhaaa', 'ek.villaine007', 'rosatorovalencia', 'happyhues_sargam', '_priya_003_', '75_akarsh_76', 'ashit_yadav', 'gurpreet_khalsa_222', 'luisangelpimentelrengifo', 'niyati5', 'jorden3966', 'delhipie', 'the_heliophile24', 'javed.ker.4123', 'filmaxzone', 'dineshjat3956', 'rossolaluna', 'officialsubscriptions', 'raj.angela', 'the_back_benchers_7', 'aquib_xargar', '_.knack.__', 'sahilverma29', 'arefarpanahi', 'anurag42084', 'kushushresthaa', 'ravis4647', 'wesal_shilig_', 'shaifali_negi', 'ankitabajpai15', 'rabi.yaaa', 'hie22020', 'miss_amritakaur', 'j.m_19.11', 'sanskrity_jain', 'h.e.e.m.a.n.e.e_blah_blah', '_saini_99', 'aleemsanaa', 'anshulg343', 'kavya_mohan13', 'blog.20s', 're_vaaaa', 'md_shaaf_shakh', 'rafiqaenan', 'iamshrey___', 'jbstudentlaundryservice', 'harshit.goyal0711', 'annu_abhotosh', 'gshashi863', 'sanya_arora22', 'shooby.shoo', 'finding.muse', 'toungeandtaste', 'imfestbouy', 'ashmikabeohar', 'shubham.aryan24', 'craftine1205', 'shreyabatraa', 'my_name_is_billimosi_', 'bbtramboo', 'corporatecaffeine', 'mansi_ohlyan_', 'fashionhub_best', '_silent_killer_185', 'leetanshiii', 'sakshii.008', 'ruhanika_love', 'adityamk2', 'spicy.suraj', 'riaaaa.pvtttt', 'nik_varuna', 'living_dead.08', 'bond.over.food', 'jayant___13', 'sanjeevjain6192', 'sutreja', 'pinkyprasad15', 'ria_gulati', '22.91am', 'karthik_ravi', 'kartikey.__.013', 'soodingelement', 'aman11sinha', 'leoniweni', 'yogitajhaaa', 'ek.villaine007', 'rosatorovalencia', 'happyhues_sargam', '_priya_003_', '75_akarsh_76', 'ashit_yadav', 'gurpreet_khalsa_222', 'luisangelpimentelrengifo', 'niyati5', 'jorden3966', 'delhipie', 'the_heliophile24', 'javed.ker.4123', 'filmaxzone', 'dineshjat3956', 'rossolaluna', 'officialsubscriptions', 'raj.angela', 'the_back_benchers_7', 'aquib_xargar', '_.knack.__', 'sahilverma29', 'arefarpanahi', 'anurag42084', 'kushushresthaa', 'ravis4647', 'wesal_shilig_', 'shaifali_negi', 'ankitabajpai15', 'rabi.yaaa', 'hie22020', 'miss_amritakaur', 'j.m_19.11', 'sanskrity_jain', 'h.e.e.m.a.n.e.e_blah_blah', '_saini_99', 'aleemsanaa', 'anshulg343', 'kavya_mohan13', 'blog.20s', 're_vaaaa', 'md_shaaf_shakh', 'rafiqaenan', 'iamshrey___', 'jbstudentlaundryservice', 'harshit.goyal0711', 'annu_abhotosh', 'gshashi863', 'sanya_arora22', 'shooby.shoo', 'finding.muse', 'toungeandtaste', 'imfestbouy', 'ashmikabeohar', 'shubham.aryan24', 'craftine1205', 'shreyabatraa', 'my_name_is_billimosi_', 'bbtramboo', 'corporatecaffeine', 'mansi_ohlyan_', 'fashionhub_best', '_silent_killer_185', 'leetanshiii', 'sakshii.008', 'ruhanika_love', 'adityamk2', 'spicy.suraj', 'riaaaa.pvtttt', 'nik_varuna', 'living_dead.08', 'bond.over.food', 'jayant___13', 'sanjeevjain6192', 'sutreja', 'pinkyprasad15', 'ria_gulati', '22.91am', 'karthik_ravi', 'kartikey.__.013', 'soodingelement', 'aman11sinha', 'leoniweni', 'yogitajhaaa', 'ek.villaine007', 'rosatorovalencia', 'happyhues_sargam', '_priya_003_', '75_akarsh_76', 'ashit_yadav', 'gurpreet_khalsa_222', 'luisangelpimentelrengifo', 'niyati5', 'jorden3966', 'delhipie', 'the_heliophile24', 'javed.ker.4123', 'filmaxzone', 'dineshjat3956', 'rossolaluna', 'officialsubscriptions', 'raj.angela', 'the_back_benchers_7', 'aquib_xargar', '_.knack.__', 'sahilverma29', 'arefarpanahi', 'anurag42084', 'kushushresthaa', 'ravis4647', 'wesal_shilig_', 'shaifali_negi', 'ankitabajpai15', 'rabi.yaaa', 'hie22020', 'miss_amritakaur', 'j.m_19.11', 'sanskrity_jain', 'h.e.e.m.a.n.e.e_blah_blah', '_saini_99', 'aleemsanaa', 'anshulg343', 'kavya_mohan13', 'blog.20s', 're_vaaaa', 'md_shaaf_shakh', 'rafiqaenan', 'iamshrey___', 'jbstudentlaundryservice', 'harshit.goyal0711', 'annu_abhotosh', 'gshashi863', 'sanya_arora22', 'shooby.shoo', 'finding.muse', 'toungeandtaste', 'imfestbouy', 'ashmikabeohar', 'shubham.aryan24', 'craftine1205', 'shreyabatraa', 'my_name_is_billimosi_', 'bbtramboo', 'corporatecaffeine', 'mansi_ohlyan_', 'fashionhub_best', '_silent_killer_185', 'leetanshiii', 'sakshii.008', 'ruhanika_love', 'adityamk2', 'spicy.suraj', 'riaaaa.pvtttt', 'nik_varuna', 'living_dead.08', 'bond.over.food', 'jayant___13', 'sanjeevjain6192', 'sutreja', 'pinkyprasad15', 'ria_gulati', '22.91am', 'karthik_ravi', 'kartikey.__.013', 'soodingelement', 'aman11sinha', 'leoniweni', 'yogitajhaaa', 'ek.villaine007', 'rosatorovalencia', 'happyhues_sargam', '_priya_003_', '75_akarsh_76', 'ashit_yadav', 'gurpreet_khalsa_222', 'luisangelpimentelrengifo', 'niyati5', 'jorden3966', 'delhipie', 'the_heliophile24', 'javed.ker.4123', 'filmaxzone', 'dineshjat3956', 'rossolaluna', 'officialsubscriptions', 'raj.angela', 'the_back_benchers_7', 'aquib_xargar', '_.knack.__', 'sahilverma29', 'arefarpanahi', 'anurag42084', 'kushushresthaa', 'ravis4647', 'wesal_shilig_', 'shaifali_negi', 'ankitabajpai15', 'rabi.yaaa', 'hie22020', 'miss_amritakaur', 'j.m_19.11', 'sanskrity_jain', 'h.e.e.m.a.n.e.e_blah_blah', '_saini_99', 'aleemsanaa', 'anshulg343', 'kavya_mohan13', 'blog.20s', 're_vaaaa', 'md_shaaf_shakh', 'rafiqaenan', 'iamshrey___', 'jbstudentlaundryservice', 'harshit.goyal0711', 'annu_abhotosh', 'gshashi863', 'sanya_arora22', 'shooby.shoo', 'finding.muse', 'toungeandtaste', 'imfestbouy', 'ashmikabeohar', 'shubham.aryan24', 'craftine1205', 'shreyabatraa', 'my_name_is_billimosi_', 'bbtramboo', 'corporatecaffeine', 'mansi_ohlyan_', 'fashionhub_best', '_silent_killer_185', 'leetanshiii', 'sakshii.008', 'ruhanika_love', 'adityamk2', 'spicy.suraj', 'riaaaa.pvtttt', 'nik_varuna', 'living_dead.08', 'bond.over.food', 'jayant___13', 'sanjeevjain6192', 'sutreja', 'pinkyprasad15', 'ria_gulati', '22.91am', 'karthik_ravi', 'kartikey.__.013', 'soodingelement', 'aman11sinha', 'leoniweni', 'yogitajhaaa', 'ek.villaine007', 'rosatorovalencia', 'happyhues_sargam', '_priya_003_', '75_akarsh_76', 'ashit_yadav', 'gurpreet_khalsa_222', 'luisangelpimentelrengifo', 'niyati5', 'jorden3966', 'delhipie', 'the_heliophile24', 'javed.ker.4123', 'filmaxzone', 'dineshjat3956', 'rossolaluna', 'officialsubscriptions', 'raj.angela', 'the_back_benchers_7', 'aquib_xargar', '_.knack.__', 'sahilverma29', 'arefarpanahi', 'anurag42084', 'kushushresthaa', 'ravis4647', 'wesal_shilig_', 'shaifali_negi', 'ankitabajpai15', 'rabi.yaaa', 'hie22020', 'miss_amritakaur', 'j.m_19.11', 'sanskrity_jain', 'h.e.e.m.a.n.e.e_blah_blah', '_saini_99', 'aleemsanaa', 'anshulg343', 'kavya_mohan13', 'blog.20s', 're_vaaaa', 'md_shaaf_shakh', 'rafiqaenan', 'iamshrey___', 'jbstudentlaundryservice', 'harshit.goyal0711', 'annu_abhotosh', 'gshashi863', 'sanya_arora22', 'shooby.shoo', 'finding.muse', 'toungeandtaste', 'imfestbouy', 'ashmikabeohar', 'shubham.aryan24', 'craftine1205', 'shreyabatraa', 'my_name_is_billimosi_', 'bbtramboo', 'corporatecaffeine', 'mansi_ohlyan_', 'fashionhub_best', '_silent_killer_185', 'leetanshiii', 'sakshii.008', 'ruhanika_love', 'adityamk2', 'spicy.suraj', 'riaaaa.pvtttt', 'nik_varuna', 'living_dead.08', 'bond.over.food', 'jayant___13', 'sanjeevjain6192', 'sutreja', 'pinkyprasad15']\n"
     ]
    }
   ],
   "source": [
    "followers_btn=driver.find_element_by_xpath('//li[@class=\"Y8-fY \"]/a')\n",
    "followers_btn.click()\n",
    "time.sleep(3)\n",
    "\n",
    "followers=[]\n",
    "fbody=driver.find_element_by_xpath('//div[@class=\"isgrP\"]')\n",
    "li=driver.find_elements_by_xpath('//a[@class=\"FPmhX notranslate  _0imsa \"]')\n",
    "while len(followers)<500:\n",
    "    for i in li:\n",
    "        followers.append(i.get_attribute('innerHTML'))\n",
    "    \n",
    "    driver.execute_script('arguments[0].scrollTop = arguments[0].scrollTop + arguments[0].offsetHeight',fbody)\n",
    "    time.sleep(2)\n",
    "    \n",
    "    li=driver.find_elements_by_xpath('//a[@class=\"FPmhX notranslate  _0imsa \"]')\n",
    "\n",
    "time.sleep(2)\n",
    "driver.find_element_by_xpath('//div[@class=\"WaOAr\"]/button').click()\n",
    "    \n",
    "print(followers[:500])"
   ]
  },
  {
   "cell_type": "code",
   "execution_count": null,
   "metadata": {},
   "outputs": [],
   "source": []
  }
 ],
 "metadata": {
  "kernelspec": {
   "display_name": "Python 3",
   "language": "python",
   "name": "python3"
  },
  "language_info": {
   "codemirror_mode": {
    "name": "ipython",
    "version": 3
   },
   "file_extension": ".py",
   "mimetype": "text/x-python",
   "name": "python",
   "nbconvert_exporter": "python",
   "pygments_lexer": "ipython3",
   "version": "3.8.3"
  }
 },
 "nbformat": 4,
 "nbformat_minor": 4
}
